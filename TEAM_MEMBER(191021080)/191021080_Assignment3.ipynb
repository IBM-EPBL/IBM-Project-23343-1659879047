{
 "cells": [
  {
   "cell_type": "code",
   "execution_count": 4,
   "id": "6d36c51c",
   "metadata": {},
   "outputs": [
    {
     "name": "stderr",
     "output_type": "stream",
     "text": [
      "c:\\users\\user\\anaconda3\\lib\\site-packages\\gdown\\cli.py:127: FutureWarning: Option `--id` was deprecated in version 4.3.1 and will be removed in 5.0. You don't need to pass it anymore to use a file ID.\n",
      "  warnings.warn(\n",
      "Downloading...\n",
      "From: https://drive.google.com/uc?id=1xkynpL15pt6KT3YSlDimu4A5iRU9qYck\n",
      "To: D:\\IBM\\TEAM_MEMBER(191021076)\\Flowers-Dataset.zip\n",
      "\n",
      "  0%|          | 0.00/236M [00:00<?, ?B/s]\n",
      "  0%|          | 524k/236M [00:00<06:07, 640kB/s]\n",
      "  0%|          | 1.05M/236M [00:02<08:00, 488kB/s]\n",
      "  1%|          | 1.57M/236M [00:02<06:32, 596kB/s]\n",
      "  1%|          | 2.10M/236M [00:03<05:45, 675kB/s]\n",
      "  1%|1         | 2.62M/236M [00:03<04:34, 848kB/s]\n",
      "  1%|1         | 3.15M/236M [00:04<05:09, 751kB/s]\n",
      "  2%|1         | 3.67M/236M [00:05<05:03, 765kB/s]\n",
      "  2%|1         | 4.19M/236M [00:05<04:17, 899kB/s]\n",
      "  2%|2         | 4.72M/236M [00:05<03:44, 1.03MB/s]\n",
      "  2%|2         | 5.24M/236M [00:06<03:30, 1.09MB/s]\n",
      "  2%|2         | 5.77M/236M [00:06<03:12, 1.19MB/s]\n",
      "  3%|2         | 6.29M/236M [00:06<02:45, 1.38MB/s]\n",
      "  3%|2         | 6.82M/236M [00:07<02:30, 1.52MB/s]\n",
      "  3%|3         | 7.34M/236M [00:07<02:36, 1.46MB/s]\n",
      "  3%|3         | 7.86M/236M [00:07<02:19, 1.64MB/s]\n",
      "  4%|3         | 8.39M/236M [00:08<02:10, 1.74MB/s]\n",
      "  4%|3         | 8.91M/236M [00:08<02:04, 1.81MB/s]\n",
      "  4%|4         | 9.44M/236M [00:08<02:14, 1.68MB/s]\n",
      "  4%|4         | 9.96M/236M [00:08<02:10, 1.73MB/s]\n",
      "  4%|4         | 10.5M/236M [00:09<02:17, 1.64MB/s]\n",
      "  5%|4         | 11.0M/236M [00:09<02:21, 1.59MB/s]\n",
      "  5%|4         | 11.5M/236M [00:09<01:53, 1.98MB/s]\n",
      "  5%|5         | 12.1M/236M [00:10<03:08, 1.19MB/s]\n",
      "  5%|5         | 12.6M/236M [00:10<02:40, 1.39MB/s]\n",
      "  6%|5         | 13.1M/236M [00:11<02:57, 1.25MB/s]\n",
      "  6%|5         | 13.6M/236M [00:12<03:28, 1.06MB/s]\n",
      "  6%|6         | 14.2M/236M [00:12<03:42, 996kB/s] \n",
      "  6%|6         | 14.7M/236M [00:12<02:52, 1.28MB/s]\n",
      "  6%|6         | 15.2M/236M [00:13<03:08, 1.17MB/s]\n",
      "  7%|6         | 15.7M/236M [00:14<03:44, 980kB/s] \n",
      "  7%|6         | 16.3M/236M [00:14<03:06, 1.17MB/s]\n",
      "  7%|7         | 16.8M/236M [00:14<02:51, 1.28MB/s]\n",
      "  7%|7         | 17.3M/236M [00:14<02:31, 1.44MB/s]\n",
      "  8%|7         | 17.8M/236M [00:15<02:45, 1.32MB/s]\n",
      "  8%|7         | 18.4M/236M [00:15<02:22, 1.52MB/s]\n",
      "  8%|8         | 18.9M/236M [00:15<02:25, 1.49MB/s]\n",
      "  8%|8         | 19.4M/236M [00:16<03:17, 1.10MB/s]\n",
      "  8%|8         | 19.9M/236M [00:18<05:28, 656kB/s] \n",
      "  9%|8         | 20.4M/236M [00:18<04:43, 759kB/s]\n",
      "  9%|8         | 21.0M/236M [00:19<05:04, 705kB/s]\n",
      "  9%|9         | 21.5M/236M [00:19<04:16, 834kB/s]\n",
      "  9%|9         | 22.0M/236M [00:21<05:46, 616kB/s]\n",
      " 10%|9         | 22.5M/236M [00:21<04:47, 740kB/s]\n",
      " 10%|9         | 23.1M/236M [00:22<04:15, 831kB/s]\n",
      " 10%|#         | 23.6M/236M [00:22<03:58, 891kB/s]\n",
      " 10%|#         | 24.1M/236M [00:23<04:20, 812kB/s]\n",
      " 10%|#         | 24.6M/236M [00:24<04:26, 792kB/s]\n",
      " 11%|#         | 25.2M/236M [00:24<03:57, 888kB/s]\n",
      " 11%|#         | 25.7M/236M [00:25<04:36, 759kB/s]\n",
      " 11%|#1        | 26.2M/236M [00:25<03:42, 942kB/s]\n",
      " 11%|#1        | 26.7M/236M [00:26<03:32, 982kB/s]\n",
      " 12%|#1        | 27.3M/236M [00:27<04:38, 748kB/s]\n",
      " 12%|#1        | 27.8M/236M [00:27<04:28, 773kB/s]\n",
      " 12%|#2        | 28.3M/236M [00:28<04:27, 776kB/s]\n",
      " 12%|#2        | 28.8M/236M [00:29<04:33, 756kB/s]\n",
      " 12%|#2        | 29.4M/236M [00:29<04:08, 829kB/s]\n",
      " 13%|#2        | 29.9M/236M [00:30<04:32, 756kB/s]\n",
      " 13%|#2        | 30.4M/236M [00:30<03:43, 918kB/s]\n",
      " 13%|#3        | 30.9M/236M [00:32<06:01, 567kB/s]\n",
      " 13%|#3        | 31.5M/236M [00:33<05:40, 600kB/s]\n",
      " 14%|#3        | 32.0M/236M [00:34<05:17, 641kB/s]\n",
      " 14%|#3        | 32.5M/236M [00:34<04:31, 749kB/s]\n",
      " 14%|#4        | 33.0M/236M [00:35<04:28, 754kB/s]\n",
      " 14%|#4        | 33.6M/236M [00:36<05:21, 630kB/s]\n",
      " 14%|#4        | 34.1M/236M [00:37<05:38, 596kB/s]\n",
      " 15%|#4        | 34.6M/236M [00:37<04:43, 710kB/s]\n",
      " 15%|#4        | 35.1M/236M [00:38<03:58, 842kB/s]\n",
      " 15%|#5        | 35.7M/236M [00:38<03:57, 844kB/s]\n",
      " 15%|#5        | 36.2M/236M [00:39<03:43, 894kB/s]\n",
      " 16%|#5        | 36.7M/236M [00:41<06:02, 548kB/s]\n",
      " 16%|#5        | 37.2M/236M [00:41<04:33, 725kB/s]\n",
      " 16%|#6        | 37.7M/236M [00:41<04:06, 804kB/s]\n",
      " 16%|#6        | 38.3M/236M [00:42<03:58, 828kB/s]\n",
      " 16%|#6        | 38.8M/236M [00:42<03:32, 925kB/s]\n",
      " 17%|#6        | 39.3M/236M [00:43<03:33, 919kB/s]\n",
      " 17%|#6        | 39.8M/236M [00:44<04:12, 774kB/s]\n",
      " 17%|#7        | 40.4M/236M [00:44<03:57, 823kB/s]\n",
      " 17%|#7        | 40.9M/236M [00:45<04:04, 797kB/s]\n",
      " 18%|#7        | 41.4M/236M [00:46<04:03, 798kB/s]\n",
      " 18%|#7        | 41.9M/236M [00:46<03:06, 1.04MB/s]\n",
      " 18%|#8        | 42.5M/236M [00:46<02:59, 1.08MB/s]\n",
      " 18%|#8        | 43.0M/236M [00:47<03:38, 880kB/s] \n",
      " 18%|#8        | 43.5M/236M [00:48<03:27, 925kB/s]\n",
      " 19%|#8        | 44.0M/236M [00:48<03:01, 1.06MB/s]\n",
      " 19%|#8        | 44.6M/236M [00:48<02:39, 1.20MB/s]\n",
      " 19%|#9        | 45.1M/236M [00:49<03:13, 986kB/s] \n",
      " 20%|#9        | 46.1M/236M [00:49<02:23, 1.32MB/s]\n",
      " 20%|#9        | 46.7M/236M [00:50<02:25, 1.30MB/s]\n",
      " 20%|##        | 47.2M/236M [00:50<02:09, 1.45MB/s]\n",
      " 20%|##        | 47.7M/236M [00:50<02:01, 1.54MB/s]\n",
      " 20%|##        | 48.2M/236M [00:51<01:59, 1.57MB/s]\n",
      " 21%|##        | 48.8M/236M [00:51<02:19, 1.34MB/s]\n",
      " 21%|##        | 49.3M/236M [00:51<01:59, 1.56MB/s]\n",
      " 21%|##1       | 49.8M/236M [00:52<02:03, 1.51MB/s]\n",
      " 21%|##1       | 50.3M/236M [00:52<01:56, 1.59MB/s]\n",
      " 22%|##1       | 50.9M/236M [00:52<01:57, 1.57MB/s]\n",
      " 22%|##1       | 51.4M/236M [00:53<02:44, 1.12MB/s]\n",
      " 22%|##2       | 52.4M/236M [00:54<02:23, 1.28MB/s]\n",
      " 22%|##2       | 53.0M/236M [00:54<02:20, 1.30MB/s]\n",
      " 23%|##2       | 53.5M/236M [00:55<02:05, 1.45MB/s]\n",
      " 23%|##2       | 54.0M/236M [00:55<02:30, 1.21MB/s]\n",
      " 23%|##3       | 54.5M/236M [00:55<01:58, 1.52MB/s]\n",
      " 23%|##3       | 55.1M/236M [00:57<03:27, 869kB/s] \n",
      " 24%|##3       | 55.6M/236M [00:57<02:44, 1.09MB/s]\n",
      " 24%|##3       | 56.1M/236M [00:58<03:29, 857kB/s] \n",
      " 24%|##4       | 56.6M/236M [00:58<03:02, 979kB/s]\n",
      " 24%|##4       | 57.1M/236M [00:58<02:31, 1.18MB/s]\n",
      " 24%|##4       | 57.7M/236M [00:59<02:16, 1.30MB/s]\n",
      " 25%|##4       | 58.2M/236M [00:59<02:10, 1.36MB/s]\n",
      " 25%|##4       | 58.7M/236M [00:59<02:14, 1.32MB/s]\n",
      " 25%|##5       | 59.2M/236M [01:00<02:09, 1.37MB/s]\n",
      " 25%|##5       | 59.8M/236M [01:00<02:10, 1.35MB/s]\n",
      " 26%|##5       | 60.3M/236M [01:00<02:02, 1.43MB/s]\n",
      " 26%|##5       | 60.8M/236M [01:01<01:52, 1.55MB/s]\n",
      " 26%|##6       | 61.3M/236M [01:01<02:32, 1.15MB/s]\n",
      " 26%|##6       | 61.9M/236M [01:02<03:19, 871kB/s] \n",
      " 26%|##6       | 62.4M/236M [01:03<03:13, 894kB/s]\n",
      " 27%|##6       | 62.9M/236M [01:03<02:38, 1.09MB/s]\n",
      " 27%|##6       | 63.4M/236M [01:04<02:49, 1.01MB/s]\n",
      " 27%|##7       | 64.0M/236M [01:05<04:26, 643kB/s] \n",
      " 27%|##7       | 64.5M/236M [01:07<06:07, 466kB/s]\n",
      " 28%|##7       | 65.0M/236M [01:09<06:59, 406kB/s]\n",
      " 28%|##7       | 65.5M/236M [01:09<05:50, 485kB/s]\n",
      " 28%|##8       | 66.1M/236M [01:11<07:22, 384kB/s]\n",
      " 28%|##8       | 66.6M/236M [01:12<06:11, 455kB/s]\n",
      " 28%|##8       | 67.1M/236M [01:14<08:11, 343kB/s]\n",
      " 29%|##8       | 67.6M/236M [01:15<06:48, 411kB/s]\n",
      " 29%|##8       | 68.2M/236M [01:17<07:33, 369kB/s]\n",
      " 29%|##9       | 68.7M/236M [01:18<06:26, 432kB/s]\n",
      " 29%|##9       | 69.2M/236M [01:18<05:37, 493kB/s]\n",
      " 30%|##9       | 69.7M/236M [01:19<05:19, 519kB/s]\n",
      " 30%|##9       | 70.3M/236M [01:20<04:40, 589kB/s]\n",
      " 30%|###       | 70.8M/236M [01:21<05:03, 543kB/s]\n",
      " 30%|###       | 71.3M/236M [01:23<05:59, 457kB/s]\n",
      " 30%|###       | 71.8M/236M [01:23<05:27, 500kB/s]\n",
      " 31%|###       | 72.4M/236M [01:25<05:45, 473kB/s]\n",
      " 31%|###       | 72.9M/236M [01:26<06:43, 403kB/s]\n",
      " 31%|###1      | 73.4M/236M [01:27<06:17, 430kB/s]\n",
      " 31%|###1      | 73.9M/236M [01:29<06:24, 420kB/s]\n",
      " 32%|###1      | 74.4M/236M [01:30<07:14, 371kB/s]\n",
      " 32%|###1      | 75.0M/236M [01:32<07:39, 349kB/s]\n",
      " 32%|###2      | 75.5M/236M [01:34<07:25, 360kB/s]\n",
      " 32%|###2      | 76.0M/236M [01:35<06:54, 385kB/s]\n",
      " 32%|###2      | 76.5M/236M [01:36<06:45, 393kB/s]\n",
      " 33%|###2      | 77.1M/236M [01:37<06:33, 403kB/s]\n",
      " 33%|###2      | 77.6M/236M [01:38<05:40, 464kB/s]\n",
      " 33%|###3      | 78.1M/236M [01:39<05:41, 461kB/s]\n",
      " 33%|###3      | 78.6M/236M [01:41<06:29, 403kB/s]\n",
      " 34%|###3      | 79.2M/236M [01:41<05:25, 481kB/s]\n",
      " 34%|###3      | 79.7M/236M [01:42<04:42, 552kB/s]\n",
      " 34%|###4      | 80.2M/236M [01:43<04:23, 589kB/s]\n",
      " 34%|###4      | 80.7M/236M [01:44<04:32, 569kB/s]\n",
      " 34%|###4      | 81.3M/236M [01:45<05:14, 491kB/s]\n",
      " 35%|###4      | 81.8M/236M [01:46<04:20, 591kB/s]\n",
      " 35%|###4      | 82.3M/236M [01:46<04:04, 627kB/s]\n",
      " 35%|###5      | 82.8M/236M [01:47<03:34, 714kB/s]\n",
      " 35%|###5      | 83.4M/236M [01:47<03:10, 798kB/s]\n",
      " 36%|###5      | 83.9M/236M [01:48<02:54, 872kB/s]\n",
      " 36%|###5      | 84.4M/236M [01:48<02:33, 988kB/s]\n",
      " 36%|###6      | 84.9M/236M [01:49<02:37, 955kB/s]\n",
      " 36%|###6      | 85.5M/236M [01:50<03:04, 812kB/s]\n",
      " 36%|###6      | 86.0M/236M [01:50<02:41, 929kB/s]\n",
      " 37%|###6      | 86.5M/236M [01:50<02:31, 982kB/s]\n",
      " 37%|###6      | 87.0M/236M [01:51<02:43, 911kB/s]\n",
      " 37%|###7      | 87.6M/236M [01:52<03:02, 810kB/s]\n",
      " 37%|###7      | 88.1M/236M [01:53<03:05, 794kB/s]\n",
      " 38%|###7      | 88.6M/236M [01:53<03:19, 736kB/s]\n",
      " 38%|###7      | 89.1M/236M [01:54<03:10, 771kB/s]\n",
      " 38%|###8      | 89.7M/236M [01:55<03:02, 798kB/s]\n",
      " 38%|###8      | 90.2M/236M [01:55<02:40, 905kB/s]\n",
      " 38%|###8      | 90.7M/236M [01:56<03:05, 783kB/s]\n",
      " 39%|###8      | 91.2M/236M [01:56<02:48, 860kB/s]\n",
      " 39%|###8      | 91.8M/236M [01:57<02:36, 921kB/s]\n",
      " 39%|###9      | 92.3M/236M [01:57<02:30, 953kB/s]\n",
      " 39%|###9      | 92.8M/236M [01:58<02:17, 1.04MB/s]\n",
      " 40%|###9      | 93.3M/236M [01:58<02:05, 1.14MB/s]\n",
      " 40%|###9      | 93.8M/236M [01:58<01:57, 1.20MB/s]\n",
      " 40%|####      | 94.4M/236M [01:59<01:48, 1.30MB/s]\n",
      " 40%|####      | 94.9M/236M [02:00<02:32, 925kB/s] \n",
      " 40%|####      | 95.4M/236M [02:00<02:02, 1.14MB/s]\n",
      " 41%|####      | 95.9M/236M [02:00<01:52, 1.24MB/s]\n",
      " 41%|####      | 96.5M/236M [02:01<01:43, 1.35MB/s]\n",
      " 41%|####1     | 97.0M/236M [02:01<01:56, 1.19MB/s]\n",
      " 41%|####1     | 97.5M/236M [02:01<01:39, 1.39MB/s]\n",
      " 42%|####1     | 98.0M/236M [02:02<01:35, 1.45MB/s]\n",
      " 42%|####1     | 98.6M/236M [02:02<01:54, 1.20MB/s]\n",
      " 42%|####2     | 99.1M/236M [02:03<01:49, 1.25MB/s]\n",
      " 42%|####2     | 99.6M/236M [02:04<02:34, 881kB/s] \n",
      " 42%|####2     | 100M/236M [02:04<02:40, 846kB/s] \n",
      " 43%|####2     | 101M/236M [02:05<02:11, 1.03MB/s]\n",
      " 43%|####2     | 101M/236M [02:06<03:35, 625kB/s] \n",
      " 43%|####3     | 102M/236M [02:07<03:40, 607kB/s]\n",
      " 43%|####3     | 102M/236M [02:08<03:02, 731kB/s]\n",
      " 44%|####3     | 103M/236M [02:08<02:39, 834kB/s]\n",
      " 44%|####3     | 103M/236M [02:08<02:15, 978kB/s]\n",
      " 44%|####4     | 104M/236M [02:09<02:02, 1.08MB/s]\n",
      " 44%|####4     | 104M/236M [02:09<01:54, 1.15MB/s]\n",
      " 44%|####4     | 105M/236M [02:09<01:38, 1.33MB/s]\n",
      " 45%|####4     | 105M/236M [02:10<01:33, 1.40MB/s]\n",
      " 45%|####4     | 106M/236M [02:10<01:26, 1.49MB/s]\n",
      " 45%|####5     | 106M/236M [02:10<01:18, 1.65MB/s]\n",
      " 45%|####5     | 107M/236M [02:11<01:24, 1.53MB/s]\n",
      " 46%|####5     | 107M/236M [02:11<01:32, 1.38MB/s]\n",
      " 46%|####5     | 108M/236M [02:11<01:29, 1.43MB/s]\n",
      " 46%|####6     | 109M/236M [02:12<01:24, 1.51MB/s]\n",
      " 46%|####6     | 109M/236M [02:12<01:16, 1.66MB/s]\n",
      " 46%|####6     | 110M/236M [02:13<01:44, 1.21MB/s]\n",
      " 47%|####6     | 110M/236M [02:13<01:28, 1.42MB/s]\n",
      " 47%|####6     | 111M/236M [02:13<01:28, 1.41MB/s]\n",
      " 47%|####7     | 111M/236M [02:13<01:17, 1.60MB/s]\n",
      " 47%|####7     | 112M/236M [02:14<01:19, 1.57MB/s]\n",
      " 48%|####7     | 112M/236M [02:14<01:19, 1.56MB/s]\n",
      " 48%|####7     | 113M/236M [02:14<01:17, 1.58MB/s]\n",
      " 48%|####8     | 113M/236M [02:15<01:38, 1.24MB/s]\n",
      " 48%|####8     | 114M/236M [02:15<01:26, 1.41MB/s]\n",
      " 48%|####8     | 114M/236M [02:16<01:56, 1.04MB/s]\n",
      " 49%|####8     | 115M/236M [02:16<01:43, 1.16MB/s]\n",
      " 49%|####8     | 115M/236M [02:17<01:33, 1.29MB/s]\n",
      " 49%|####9     | 116M/236M [02:17<01:27, 1.38MB/s]\n",
      " 49%|####9     | 116M/236M [02:17<01:25, 1.40MB/s]\n",
      " 50%|####9     | 117M/236M [02:18<01:55, 1.03MB/s]\n",
      " 50%|####9     | 117M/236M [02:19<01:59, 988kB/s] \n",
      " 50%|#####     | 118M/236M [02:19<01:45, 1.11MB/s]\n",
      " 50%|#####     | 118M/236M [02:20<01:35, 1.23MB/s]\n",
      " 51%|#####     | 119M/236M [02:20<01:26, 1.35MB/s]\n",
      " 51%|#####     | 120M/236M [02:20<01:24, 1.37MB/s]\n",
      " 51%|#####     | 120M/236M [02:21<01:22, 1.41MB/s]\n",
      " 51%|#####1    | 121M/236M [02:21<01:14, 1.55MB/s]\n",
      " 51%|#####1    | 121M/236M [02:21<01:08, 1.67MB/s]\n",
      " 52%|#####1    | 122M/236M [02:21<01:13, 1.56MB/s]\n",
      " 52%|#####1    | 122M/236M [02:22<01:11, 1.60MB/s]\n",
      " 52%|#####2    | 123M/236M [02:22<01:34, 1.19MB/s]\n",
      " 53%|#####2    | 124M/236M [02:23<01:08, 1.64MB/s]\n",
      " 53%|#####2    | 124M/236M [02:23<01:25, 1.31MB/s]\n",
      " 53%|#####2    | 125M/236M [02:24<01:22, 1.34MB/s]\n",
      " 53%|#####3    | 125M/236M [02:24<01:19, 1.39MB/s]\n",
      " 53%|#####3    | 126M/236M [02:25<01:17, 1.42MB/s]\n",
      " 54%|#####3    | 126M/236M [02:25<01:37, 1.13MB/s]\n",
      " 54%|#####3    | 127M/236M [02:26<01:30, 1.20MB/s]\n",
      " 54%|#####4    | 127M/236M [02:26<01:25, 1.27MB/s]\n",
      " 54%|#####4    | 128M/236M [02:27<02:13, 804kB/s] \n",
      " 55%|#####4    | 128M/236M [02:27<01:52, 951kB/s]\n",
      " 55%|#####4    | 129M/236M [02:28<01:41, 1.05MB/s]\n",
      " 55%|#####4    | 129M/236M [02:29<02:04, 849kB/s] \n",
      " 55%|#####5    | 130M/236M [02:30<02:12, 799kB/s]\n",
      " 55%|#####5    | 131M/236M [02:30<02:05, 840kB/s]\n",
      " 56%|#####5    | 131M/236M [02:31<02:23, 730kB/s]\n",
      " 56%|#####5    | 132M/236M [02:32<02:35, 668kB/s]\n",
      " 56%|#####6    | 132M/236M [02:33<02:27, 704kB/s]\n",
      " 56%|#####6    | 133M/236M [02:34<02:51, 599kB/s]\n",
      " 57%|#####6    | 133M/236M [02:34<02:33, 669kB/s]\n",
      " 57%|#####6    | 134M/236M [02:35<02:53, 589kB/s]\n",
      " 57%|#####6    | 134M/236M [02:37<03:45, 449kB/s]\n",
      " 57%|#####7    | 135M/236M [02:38<03:39, 459kB/s]\n",
      " 57%|#####7    | 135M/236M [02:40<04:07, 406kB/s]\n",
      " 58%|#####7    | 136M/236M [02:42<04:26, 374kB/s]\n",
      " 58%|#####7    | 136M/236M [02:44<05:23, 308kB/s]\n",
      " 58%|#####8    | 137M/236M [02:46<05:20, 309kB/s]\n",
      " 58%|#####8    | 137M/236M [02:47<05:08, 319kB/s]\n",
      " 59%|#####8    | 138M/236M [02:48<04:36, 354kB/s]\n",
      " 59%|#####8    | 138M/236M [02:50<04:19, 375kB/s]\n",
      " 59%|#####8    | 139M/236M [02:51<04:31, 356kB/s]\n",
      " 59%|#####9    | 139M/236M [02:52<03:50, 417kB/s]\n",
      " 59%|#####9    | 140M/236M [02:53<03:50, 416kB/s]\n",
      " 60%|#####9    | 141M/236M [02:54<03:44, 424kB/s]\n",
      " 60%|#####9    | 141M/236M [02:56<03:33, 442kB/s]\n",
      " 60%|######    | 142M/236M [02:56<03:22, 465kB/s]\n",
      " 60%|######    | 142M/236M [02:57<02:58, 524kB/s]\n",
      " 61%|######    | 143M/236M [02:58<02:36, 595kB/s]\n",
      " 61%|######    | 143M/236M [02:58<02:13, 695kB/s]\n",
      " 61%|######    | 144M/236M [02:59<01:57, 785kB/s]\n",
      " 61%|######1   | 144M/236M [02:59<01:44, 875kB/s]\n",
      " 61%|######1   | 145M/236M [03:00<01:31, 995kB/s]\n",
      " 62%|######1   | 145M/236M [03:00<01:27, 1.03MB/s]\n",
      " 62%|######1   | 146M/236M [03:00<01:17, 1.16MB/s]\n",
      " 62%|######2   | 146M/236M [03:01<01:15, 1.18MB/s]\n",
      " 62%|######2   | 147M/236M [03:01<01:12, 1.22MB/s]\n",
      " 63%|######2   | 147M/236M [03:01<01:06, 1.32MB/s]\n",
      " 63%|######2   | 148M/236M [03:02<00:59, 1.48MB/s]\n",
      " 63%|######2   | 148M/236M [03:02<00:55, 1.58MB/s]\n",
      " 63%|######3   | 149M/236M [03:02<00:54, 1.59MB/s]\n",
      " 63%|######3   | 149M/236M [03:03<00:48, 1.77MB/s]\n",
      " 64%|######3   | 150M/236M [03:03<00:48, 1.77MB/s]\n",
      " 64%|######3   | 150M/236M [03:03<00:45, 1.87MB/s]\n",
      " 64%|######4   | 151M/236M [03:03<00:44, 1.88MB/s]\n",
      " 64%|######4   | 152M/236M [03:04<01:00, 1.40MB/s]\n",
      " 65%|######4   | 153M/236M [03:04<00:46, 1.78MB/s]\n",
      " 65%|######4   | 153M/236M [03:05<00:53, 1.55MB/s]\n",
      " 65%|######5   | 154M/236M [03:05<00:53, 1.52MB/s]\n",
      " 66%|######5   | 155M/236M [03:06<00:47, 1.70MB/s]\n",
      " 66%|######5   | 155M/236M [03:06<00:49, 1.64MB/s]\n",
      " 66%|######6   | 156M/236M [03:06<00:45, 1.75MB/s]\n",
      " 66%|######6   | 156M/236M [03:07<00:44, 1.80MB/s]\n",
      " 67%|######6   | 157M/236M [03:07<00:45, 1.74MB/s]\n",
      " 67%|######6   | 157M/236M [03:07<00:45, 1.71MB/s]\n",
      " 67%|######6   | 158M/236M [03:08<00:49, 1.59MB/s]\n",
      " 67%|######7   | 158M/236M [03:08<00:46, 1.67MB/s]\n",
      " 67%|######7   | 159M/236M [03:08<00:51, 1.50MB/s]\n",
      " 68%|######7   | 159M/236M [03:09<01:02, 1.21MB/s]\n",
      " 68%|######7   | 160M/236M [03:09<00:49, 1.54MB/s]\n",
      " 68%|######8   | 160M/236M [03:09<00:52, 1.44MB/s]\n",
      " 68%|######8   | 161M/236M [03:10<00:57, 1.31MB/s]\n",
      " 69%|######8   | 161M/236M [03:10<00:51, 1.45MB/s]\n",
      " 69%|######8   | 162M/236M [03:11<00:47, 1.55MB/s]\n",
      " 69%|######8   | 163M/236M [03:11<00:57, 1.28MB/s]\n",
      " 69%|######9   | 163M/236M [03:11<00:55, 1.30MB/s]\n",
      " 69%|######9   | 164M/236M [03:12<00:50, 1.42MB/s]\n",
      " 70%|######9   | 164M/236M [03:12<00:46, 1.55MB/s]\n",
      " 70%|######9   | 165M/236M [03:12<00:42, 1.68MB/s]\n",
      " 70%|#######   | 165M/236M [03:13<00:50, 1.39MB/s]\n",
      " 70%|#######   | 166M/236M [03:13<00:45, 1.53MB/s]\n",
      " 71%|#######   | 166M/236M [03:14<00:57, 1.20MB/s]\n",
      " 71%|#######   | 167M/236M [03:15<01:14, 921kB/s] \n",
      " 71%|#######   | 167M/236M [03:15<01:17, 884kB/s]\n",
      " 71%|#######1  | 168M/236M [03:16<01:25, 798kB/s]\n",
      " 71%|#######1  | 168M/236M [03:17<01:27, 769kB/s]\n",
      " 72%|#######1  | 169M/236M [03:17<01:23, 805kB/s]\n",
      " 72%|#######1  | 169M/236M [03:18<01:08, 974kB/s]\n",
      " 72%|#######2  | 170M/236M [03:18<01:01, 1.08MB/s]\n",
      " 72%|#######2  | 170M/236M [03:18<00:57, 1.13MB/s]\n",
      " 73%|#######2  | 171M/236M [03:19<00:50, 1.28MB/s]\n",
      " 73%|#######2  | 171M/236M [03:19<00:46, 1.38MB/s]\n",
      " 73%|#######2  | 172M/236M [03:19<00:43, 1.48MB/s]\n",
      " 73%|#######3  | 172M/236M [03:20<00:42, 1.49MB/s]\n",
      " 73%|#######3  | 173M/236M [03:20<00:39, 1.57MB/s]\n",
      " 74%|#######3  | 174M/236M [03:20<00:36, 1.69MB/s]\n",
      " 74%|#######3  | 174M/236M [03:21<00:40, 1.53MB/s]\n",
      " 74%|#######4  | 175M/236M [03:21<00:39, 1.54MB/s]\n",
      " 74%|#######4  | 175M/236M [03:21<00:37, 1.64MB/s]\n",
      " 75%|#######4  | 176M/236M [03:22<00:34, 1.76MB/s]\n",
      " 75%|#######4  | 176M/236M [03:22<00:32, 1.84MB/s]\n",
      " 75%|#######4  | 177M/236M [03:22<00:34, 1.72MB/s]\n",
      " 75%|#######5  | 177M/236M [03:22<00:32, 1.82MB/s]\n",
      " 75%|#######5  | 178M/236M [03:23<00:31, 1.86MB/s]\n",
      " 76%|#######5  | 178M/236M [03:23<00:46, 1.24MB/s]\n",
      " 76%|#######5  | 179M/236M [03:24<00:40, 1.40MB/s]\n",
      " 76%|#######6  | 179M/236M [03:24<00:37, 1.50MB/s]\n",
      " 76%|#######6  | 180M/236M [03:25<01:01, 912kB/s] \n",
      " 77%|#######6  | 180M/236M [03:25<00:46, 1.18MB/s]\n",
      " 77%|#######6  | 181M/236M [03:25<00:38, 1.43MB/s]\n",
      " 77%|#######6  | 181M/236M [03:26<00:38, 1.40MB/s]\n",
      " 77%|#######7  | 182M/236M [03:26<00:48, 1.12MB/s]\n",
      " 78%|#######7  | 183M/236M [03:27<00:32, 1.61MB/s]\n",
      " 78%|#######7  | 184M/236M [03:27<00:31, 1.64MB/s]\n",
      " 78%|#######8  | 184M/236M [03:27<00:32, 1.60MB/s]\n",
      " 78%|#######8  | 185M/236M [03:28<00:30, 1.65MB/s]\n",
      " 79%|#######8  | 185M/236M [03:28<00:30, 1.65MB/s]\n",
      " 79%|#######8  | 186M/236M [03:28<00:29, 1.72MB/s]\n",
      " 79%|#######8  | 186M/236M [03:29<00:35, 1.41MB/s]\n",
      " 79%|#######9  | 187M/236M [03:29<00:32, 1.53MB/s]\n",
      " 79%|#######9  | 187M/236M [03:29<00:30, 1.58MB/s]\n",
      " 80%|#######9  | 188M/236M [03:30<00:30, 1.55MB/s]\n",
      " 80%|#######9  | 188M/236M [03:30<00:35, 1.35MB/s]\n",
      " 80%|########  | 189M/236M [03:30<00:30, 1.55MB/s]\n",
      " 80%|########  | 189M/236M [03:31<00:27, 1.67MB/s]\n",
      " 81%|########  | 190M/236M [03:31<00:27, 1.70MB/s]\n",
      " 81%|########  | 190M/236M [03:31<00:24, 1.87MB/s]\n",
      " 81%|########  | 191M/236M [03:32<00:23, 1.87MB/s]\n",
      " 81%|########1 | 191M/236M [03:32<00:22, 2.00MB/s]\n",
      " 81%|########1 | 192M/236M [03:32<00:21, 2.02MB/s]\n",
      " 82%|########1 | 192M/236M [03:32<00:22, 1.94MB/s]\n",
      " 82%|########1 | 193M/236M [03:33<00:29, 1.44MB/s]\n",
      " 82%|########2 | 193M/236M [03:33<00:27, 1.54MB/s]\n",
      " 82%|########2 | 194M/236M [03:34<00:29, 1.42MB/s]\n",
      " 83%|########2 | 195M/236M [03:34<00:30, 1.37MB/s]\n",
      " 83%|########2 | 195M/236M [03:35<00:32, 1.24MB/s]\n",
      " 83%|########2 | 196M/236M [03:35<00:42, 942kB/s] \n",
      " 83%|########3 | 196M/236M [03:36<00:34, 1.14MB/s]\n",
      " 83%|########3 | 197M/236M [03:36<00:41, 934kB/s] \n",
      " 84%|########3 | 197M/236M [03:37<00:34, 1.11MB/s]\n",
      " 84%|########3 | 198M/236M [03:37<00:33, 1.12MB/s]\n",
      " 84%|########4 | 198M/236M [03:38<00:37, 998kB/s] \n",
      " 84%|########4 | 199M/236M [03:38<00:36, 1.02MB/s]\n",
      " 85%|########4 | 199M/236M [03:40<00:54, 666kB/s] \n",
      " 85%|########4 | 200M/236M [03:41<00:59, 603kB/s]\n",
      " 85%|########4 | 200M/236M [03:42<01:03, 561kB/s]\n",
      " 85%|########5 | 201M/236M [03:43<01:00, 575kB/s]\n",
      " 85%|########5 | 201M/236M [03:43<00:55, 620kB/s]\n",
      " 86%|########5 | 202M/236M [03:45<01:00, 560kB/s]\n",
      " 86%|########5 | 202M/236M [03:46<01:01, 542kB/s]\n",
      " 86%|########6 | 203M/236M [03:46<00:56, 579kB/s]\n",
      " 86%|########6 | 203M/236M [03:47<00:51, 622kB/s]\n",
      " 87%|########6 | 204M/236M [03:48<00:58, 545kB/s]\n",
      " 87%|########6 | 204M/236M [03:49<00:57, 540kB/s]\n",
      " 87%|########6 | 205M/236M [03:50<00:52, 580kB/s]\n",
      " 87%|########7 | 206M/236M [03:51<00:58, 511kB/s]\n",
      " 87%|########7 | 206M/236M [03:52<00:50, 583kB/s]\n",
      " 88%|########7 | 207M/236M [03:53<00:47, 609kB/s]\n",
      " 88%|########7 | 207M/236M [03:54<00:50, 562kB/s]\n",
      " 88%|########8 | 208M/236M [03:54<00:43, 641kB/s]\n",
      " 88%|########8 | 208M/236M [03:56<00:49, 558kB/s]\n",
      " 89%|########8 | 209M/236M [03:56<00:46, 586kB/s]\n",
      " 89%|########8 | 209M/236M [03:57<00:39, 669kB/s]\n",
      " 89%|########8 | 210M/236M [03:58<00:39, 658kB/s]\n",
      " 89%|########9 | 210M/236M [03:58<00:36, 696kB/s]\n",
      " 89%|########9 | 211M/236M [03:59<00:34, 719kB/s]\n",
      " 90%|########9 | 211M/236M [04:00<00:35, 680kB/s]\n",
      " 90%|########9 | 212M/236M [04:00<00:27, 857kB/s]\n",
      " 90%|######### | 212M/236M [04:01<00:29, 778kB/s]\n",
      " 90%|######### | 213M/236M [04:02<00:32, 710kB/s]\n",
      " 91%|######### | 213M/236M [04:02<00:27, 820kB/s]\n",
      " 91%|######### | 214M/236M [04:03<00:25, 840kB/s]\n",
      " 91%|######### | 214M/236M [04:03<00:23, 885kB/s]\n",
      " 91%|#########1| 215M/236M [04:04<00:25, 819kB/s]\n",
      " 91%|#########1| 215M/236M [04:04<00:20, 965kB/s]\n",
      " 92%|#########1| 216M/236M [04:05<00:20, 982kB/s]\n",
      " 92%|#########1| 217M/236M [04:05<00:18, 1.05MB/s]\n",
      " 92%|#########2| 217M/236M [04:06<00:17, 1.07MB/s]\n",
      " 92%|#########2| 218M/236M [04:06<00:16, 1.13MB/s]\n",
      " 93%|#########2| 218M/236M [04:07<00:19, 893kB/s] \n",
      " 93%|#########2| 219M/236M [04:07<00:15, 1.14MB/s]\n",
      " 93%|#########2| 219M/236M [04:08<00:19, 857kB/s] \n",
      " 93%|#########3| 220M/236M [04:09<00:15, 1.05MB/s]\n",
      " 93%|#########3| 220M/236M [04:09<00:13, 1.17MB/s]\n",
      " 94%|#########3| 221M/236M [04:09<00:12, 1.22MB/s]\n",
      " 94%|#########3| 221M/236M [04:10<00:11, 1.29MB/s]\n",
      " 94%|#########4| 222M/236M [04:10<00:11, 1.18MB/s]\n",
      " 94%|#########4| 222M/236M [04:10<00:10, 1.30MB/s]\n",
      " 95%|#########4| 223M/236M [04:11<00:09, 1.40MB/s]\n",
      " 95%|#########4| 223M/236M [04:11<00:08, 1.43MB/s]\n",
      " 95%|#########4| 224M/236M [04:11<00:07, 1.61MB/s]\n",
      " 95%|#########5| 224M/236M [04:12<00:06, 1.73MB/s]\n",
      " 95%|#########5| 225M/236M [04:12<00:05, 1.81MB/s]\n",
      " 96%|#########5| 225M/236M [04:12<00:07, 1.34MB/s]\n",
      " 96%|#########5| 226M/236M [04:13<00:07, 1.30MB/s]\n",
      " 96%|#########6| 227M/236M [04:14<00:07, 1.16MB/s]\n",
      " 97%|#########6| 228M/236M [04:14<00:06, 1.28MB/s]\n",
      " 97%|#########6| 228M/236M [04:14<00:05, 1.44MB/s]\n",
      " 97%|#########6| 229M/236M [04:15<00:04, 1.72MB/s]\n",
      " 97%|#########7| 229M/236M [04:15<00:03, 1.74MB/s]\n",
      " 97%|#########7| 230M/236M [04:15<00:03, 1.91MB/s]\n",
      " 98%|#########7| 230M/236M [04:15<00:03, 1.72MB/s]\n",
      " 98%|#########7| 231M/236M [04:16<00:02, 1.82MB/s]\n",
      " 98%|#########8| 231M/236M [04:16<00:02, 1.90MB/s]\n",
      " 98%|#########8| 232M/236M [04:16<00:01, 2.02MB/s]\n",
      " 99%|#########8| 232M/236M [04:16<00:01, 2.19MB/s]\n",
      " 99%|#########8| 233M/236M [04:17<00:01, 2.24MB/s]\n",
      " 99%|#########9| 233M/236M [04:17<00:01, 2.12MB/s]\n"
     ]
    },
    {
     "name": "stderr",
     "output_type": "stream",
     "text": [
      " 99%|#########9| 234M/236M [04:17<00:01, 1.52MB/s]\n",
      " 99%|#########9| 234M/236M [04:18<00:00, 1.64MB/s]\n",
      "100%|#########9| 235M/236M [04:19<00:00, 1.11MB/s]\n",
      "100%|#########9| 235M/236M [04:19<00:00, 1.37MB/s]\n",
      "100%|##########| 236M/236M [04:19<00:00, 1.39MB/s]\n",
      "100%|##########| 236M/236M [04:19<00:00, 909kB/s] \n"
     ]
    }
   ],
   "source": [
    "!gdown --id 1xkynpL15pt6KT3YSlDimu4A5iRU9qYck"
   ]
  },
  {
   "cell_type": "code",
   "execution_count": 3,
   "id": "9c57c378",
   "metadata": {},
   "outputs": [
    {
     "name": "stdout",
     "output_type": "stream",
     "text": [
      "Collecting gdown\n",
      "  Downloading gdown-4.5.1.tar.gz (14 kB)\n",
      "  Installing build dependencies: started\n",
      "  Installing build dependencies: finished with status 'done'\n",
      "  Getting requirements to build wheel: started\n",
      "  Getting requirements to build wheel: finished with status 'done'\n",
      "    Preparing wheel metadata: started\n",
      "    Preparing wheel metadata: finished with status 'done'\n",
      "Requirement already satisfied: requests[socks] in c:\\users\\user\\anaconda3\\lib\\site-packages (from gdown) (2.25.1)\n",
      "Requirement already satisfied: filelock in c:\\users\\user\\anaconda3\\lib\\site-packages (from gdown) (3.0.12)\n",
      "Requirement already satisfied: six in c:\\users\\user\\anaconda3\\lib\\site-packages (from gdown) (1.15.0)\n",
      "Requirement already satisfied: beautifulsoup4 in c:\\users\\user\\anaconda3\\lib\\site-packages (from gdown) (4.9.3)\n",
      "Requirement already satisfied: tqdm in c:\\users\\user\\anaconda3\\lib\\site-packages (from gdown) (4.59.0)\n",
      "Requirement already satisfied: soupsieve>1.2 in c:\\users\\user\\anaconda3\\lib\\site-packages (from beautifulsoup4->gdown) (2.2.1)\n",
      "Requirement already satisfied: urllib3<1.27,>=1.21.1 in c:\\users\\user\\anaconda3\\lib\\site-packages (from requests[socks]->gdown) (1.26.4)\n",
      "Requirement already satisfied: chardet<5,>=3.0.2 in c:\\users\\user\\anaconda3\\lib\\site-packages (from requests[socks]->gdown) (4.0.0)\n",
      "Requirement already satisfied: certifi>=2017.4.17 in c:\\users\\user\\anaconda3\\lib\\site-packages (from requests[socks]->gdown) (2021.10.8)\n",
      "Requirement already satisfied: idna<3,>=2.5 in c:\\users\\user\\anaconda3\\lib\\site-packages (from requests[socks]->gdown) (2.10)\n",
      "Requirement already satisfied: PySocks!=1.5.7,>=1.5.6 in c:\\users\\user\\anaconda3\\lib\\site-packages (from requests[socks]->gdown) (1.7.1)\n",
      "Building wheels for collected packages: gdown\n",
      "  Building wheel for gdown (PEP 517): started\n",
      "  Building wheel for gdown (PEP 517): finished with status 'done'\n",
      "  Created wheel for gdown: filename=gdown-4.5.1-py3-none-any.whl size=14933 sha256=e3961b727f3f6820b94ea0a97dec721c0b6e63f48c2dad0bb76a08a099ae2c17\n",
      "  Stored in directory: c:\\users\\user\\appdata\\local\\pip\\cache\\wheels\\8d\\df\\71\\846b2aa0fabaac2af23fbc5214eeaa55f0616e9d1a05187d72\n",
      "Successfully built gdown\n",
      "Installing collected packages: gdown\n",
      "Successfully installed gdown-4.5.1\n"
     ]
    }
   ],
   "source": [
    "!pip install gdown"
   ]
  },
  {
   "cell_type": "code",
   "execution_count": 6,
   "id": "2e5f70ab",
   "metadata": {},
   "outputs": [
    {
     "name": "stdout",
     "output_type": "stream",
     "text": [
      "Collecting unzip\n",
      "  Downloading unzip-1.0.0.tar.gz (704 bytes)\n",
      "Building wheels for collected packages: unzip\n",
      "  Building wheel for unzip (setup.py): started\n",
      "  Building wheel for unzip (setup.py): finished with status 'done'\n",
      "  Created wheel for unzip: filename=unzip-1.0.0-py3-none-any.whl size=1330 sha256=5a79608e238c2d8846cbd6a77a4313c9ff94eee23818444a2f79f0bbe1ebc276\n",
      "  Stored in directory: c:\\users\\user\\appdata\\local\\pip\\cache\\wheels\\90\\bd\\0f\\a2797a7e90de1cdd91548fba3b16a7c2560e14a268bb137101\n",
      "Successfully built unzip\n",
      "Installing collected packages: unzip\n",
      "Successfully installed unzip-1.0.0\n"
     ]
    }
   ],
   "source": [
    "!pip install unzip"
   ]
  },
  {
   "cell_type": "markdown",
   "id": "d6bdb580",
   "metadata": {},
   "source": [
    "# 1.DOWNLOAD THE DATA SET"
   ]
  },
  {
   "cell_type": "code",
   "execution_count": 73,
   "id": "7148f6f4",
   "metadata": {},
   "outputs": [],
   "source": [
    "import zipfile\n",
    "with zipfile.ZipFile(\"D:/IBM/TEAM_MEMBER(191021076)/Flowers-Dataset.zip\", 'r') as zip_ref:\n",
    "        zip_ref.extractall('data/raw')"
   ]
  },
  {
   "cell_type": "markdown",
   "id": "1ee09798",
   "metadata": {},
   "source": [
    "# 2.IMAGE AUGMENTATION"
   ]
  },
  {
   "cell_type": "code",
   "execution_count": 27,
   "id": "b57d63a4",
   "metadata": {},
   "outputs": [],
   "source": [
    "from tensorflow.keras.preprocessing.image import ImageDataGenerator"
   ]
  },
  {
   "cell_type": "code",
   "execution_count": 28,
   "id": "e53b8e82",
   "metadata": {},
   "outputs": [],
   "source": [
    "train_datagen=ImageDataGenerator(rescale=1./255,\n",
    "                                 zoom_range=0.2,\n",
    "                                 horizontal_flip=True)"
   ]
  },
  {
   "cell_type": "code",
   "execution_count": 29,
   "id": "8d1fc9b9",
   "metadata": {},
   "outputs": [],
   "source": [
    "test_datagen=ImageDataGenerator(rescale=1./255)"
   ]
  },
  {
   "cell_type": "code",
   "execution_count": 31,
   "id": "9392699f",
   "metadata": {},
   "outputs": [
    {
     "name": "stdout",
     "output_type": "stream",
     "text": [
      "Found 4317 images belonging to 5 classes.\n"
     ]
    }
   ],
   "source": [
    "xtrain=train_datagen.flow_from_directory(\"D:/IBM/TEAM_MEMBER(191021076)/data/raw/flowers\",\n",
    "                                         target_size=(76,76),\n",
    "                                         class_mode='categorical',\n",
    "                                         batch_size=100)"
   ]
  },
  {
   "cell_type": "code",
   "execution_count": 36,
   "id": "24e33256",
   "metadata": {},
   "outputs": [
    {
     "name": "stdout",
     "output_type": "stream",
     "text": [
      "Found 4317 images belonging to 5 classes.\n"
     ]
    }
   ],
   "source": [
    "xtest=test_datagen.flow_from_directory(\"D:/IBM/TEAM_MEMBER(191021076)/data/raw/flowers\",\n",
    "                                         target_size=(76,76),\n",
    "                                         class_mode='categorical',\n",
    "                                         batch_size=100)"
   ]
  },
  {
   "cell_type": "markdown",
   "id": "05575187",
   "metadata": {},
   "source": [
    "# 3.CREATE MODEL"
   ]
  },
  {
   "cell_type": "code",
   "execution_count": 32,
   "id": "7b8cdd2c",
   "metadata": {},
   "outputs": [],
   "source": [
    "from tensorflow.keras.models import Sequential\n",
    "from tensorflow.keras.layers import Convolution2D,MaxPool2D,Flatten,Dense"
   ]
  },
  {
   "cell_type": "markdown",
   "id": "daddedbb",
   "metadata": {},
   "source": [
    "# 4.ADD LAYERS"
   ]
  },
  {
   "cell_type": "code",
   "execution_count": 33,
   "id": "ba59374b",
   "metadata": {},
   "outputs": [],
   "source": [
    "model=Sequential()\n",
    "model.add(Convolution2D(32,(3,3),activation='relu',input_shape=(76,76,3)))\n",
    "model.add(MaxPool2D(pool_size=(2,2)))\n",
    "model.add(Flatten())\n",
    "model.add(Dense(300,activation='relu'))\n",
    "model.add(Dense(150,activation='relu'))\n",
    "model.add(Dense(4,activation='softmax'))"
   ]
  },
  {
   "cell_type": "markdown",
   "id": "062acdd1",
   "metadata": {},
   "source": [
    "# 5.COMPILE THE MODEL"
   ]
  },
  {
   "cell_type": "code",
   "execution_count": 34,
   "id": "698d863a",
   "metadata": {},
   "outputs": [],
   "source": [
    "model.compile(optimizer='adam',loss='categorical_crossentropy',metrics=['accuracy'])"
   ]
  },
  {
   "cell_type": "markdown",
   "id": "0eb4f7ce",
   "metadata": {},
   "source": [
    "# 6.FIT THE MODEL"
   ]
  },
  {
   "cell_type": "code",
   "execution_count": 45,
   "id": "65ef6f0d",
   "metadata": {},
   "outputs": [],
   "source": [
    "model.add(Dense(10,activation=\"softmax\"))#xtrain,steps_per_epoch = len(xtrain),epochs = 1,validation_data = xtest,validation_steps = len(xtest))"
   ]
  },
  {
   "cell_type": "markdown",
   "id": "7dd11d62",
   "metadata": {},
   "source": [
    "# 7.SAVE THE MODEL"
   ]
  },
  {
   "cell_type": "code",
   "execution_count": 46,
   "id": "f6655634",
   "metadata": {},
   "outputs": [],
   "source": [
    "model.save('flowers.h5')"
   ]
  },
  {
   "cell_type": "markdown",
   "id": "fbd827a1",
   "metadata": {},
   "source": [
    "# 8.TESTING THE MODEL"
   ]
  },
  {
   "cell_type": "code",
   "execution_count": 47,
   "id": "89a84fae",
   "metadata": {},
   "outputs": [],
   "source": [
    "from tensorflow.keras.preprocessing import image\n",
    "import numpy as np"
   ]
  },
  {
   "cell_type": "code",
   "execution_count": 50,
   "id": "73353abe",
   "metadata": {},
   "outputs": [
    {
     "data": {
      "image/png": "[encoded data removed]",
      "text/plain": [
       "<PIL.Image.Image image mode=RGB size=76x76 at 0x17513EB9220>"
      ]
     },
     "execution_count": 50,
     "metadata": {},
     "output_type": "execute_result"
    }
   ],
   "source": [
    "img=image.load_img(\"D:/IBM/TEAM_MEMBER(191021076)/data/raw/flowers/daisy/10140303196_b88d3d6cec.jpg\",target_size=(76,76))\n",
    "img"
   ]
  },
  {
   "cell_type": "code",
   "execution_count": 51,
   "id": "ae4dffbb",
   "metadata": {},
   "outputs": [
    {
     "data": {
      "text/plain": [
       "'daisy'"
      ]
     },
     "execution_count": 51,
     "metadata": {},
     "output_type": "execute_result"
    }
   ],
   "source": [
    "x=image.img_to_array(img)\n",
    "x\n",
    "x=np.expand_dims(x,axis=0)\n",
    "pred=np.argmax(model.predict(x))\n",
    "pred\n",
    "op=['daisy','dandelion','rose','sunflower','tulip']\n",
    "op[pred]"
   ]
  },
  {
   "cell_type": "code",
   "execution_count": 64,
   "id": "cac19aee",
   "metadata": {},
   "outputs": [
    {
     "data": {
      "image/png": "[encoded data removed]",
      "text/plain": [
       "<PIL.Image.Image image mode=RGB size=76x76 at 0x175214FA190>"
      ]
     },
     "execution_count": 64,
     "metadata": {},
     "output_type": "execute_result"
    }
   ],
   "source": [
    "img1=image.load_img(\"D:/IBM/TEAM_MEMBER(191021076)/data/raw/flowers/rose/10503217854_e66a804309.jpg\",target_size=(76,76))\n",
    "img1"
   ]
  },
  {
   "cell_type": "code",
   "execution_count": 65,
   "id": "d48bbf5b",
   "metadata": {},
   "outputs": [
    {
     "data": {
      "text/plain": [
       "'rose'"
      ]
     },
     "execution_count": 65,
     "metadata": {},
     "output_type": "execute_result"
    }
   ],
   "source": [
    "x=image.img_to_array(img1)\n",
    "x\n",
    "x=np.expand_dims(x,axis=0)\n",
    "pred=np.argmax(model.predict(x))\n",
    "pred\n",
    "op=['rose','dandelion','daisy','sunflower','tulip']\n",
    "op[pred]"
   ]
  },
  {
   "cell_type": "code",
   "execution_count": 66,
   "id": "07ae41e9",
   "metadata": {},
   "outputs": [
    {
     "data": {
      "image/png": "[encoded data removed]",
      "text/plain": [
       "<PIL.Image.Image image mode=RGB size=76x76 at 0x17513A401C0>"
      ]
     },
     "execution_count": 66,
     "metadata": {},
     "output_type": "execute_result"
    }
   ],
   "source": [
    "img2=image.load_img('D:/IBM/TEAM_MEMBER(191021076)/data/raw/flowers/sunflower/1022552002_2b93faf9e7_n.jpg',target_size=(76,76))\n",
    "img2"
   ]
  },
  {
   "cell_type": "code",
   "execution_count": 67,
   "id": "3412e2ae",
   "metadata": {},
   "outputs": [
    {
     "data": {
      "text/plain": [
       "'sunflower'"
      ]
     },
     "execution_count": 67,
     "metadata": {},
     "output_type": "execute_result"
    }
   ],
   "source": [
    "x=image.img_to_array(img2)\n",
    "x\n",
    "x=np.expand_dims(x,axis=0)\n",
    "pred=np.argmax(model.predict(x))\n",
    "pred\n",
    "op=['sunflower','dandelion','rose','daisy','tulip']\n",
    "op[pred]"
   ]
  },
  {
   "cell_type": "code",
   "execution_count": 68,
   "id": "383384be",
   "metadata": {},
   "outputs": [
    {
     "data": {
      "image/png": "[encoded data removed]",
      "text/plain": [
       "<PIL.Image.Image image mode=RGB size=76x76 at 0x1752153CAF0>"
      ]
     },
     "execution_count": 68,
     "metadata": {},
     "output_type": "execute_result"
    }
   ],
   "source": [
    "img3=image.load_img('D:/IBM/TEAM_MEMBER(191021076)/data/raw/flowers/tulip/2087981909_fd468de5c4_n.jpg',target_size=(76,76))\n",
    "img3"
   ]
  },
  {
   "cell_type": "code",
   "execution_count": 72,
   "id": "9560b6e7",
   "metadata": {},
   "outputs": [
    {
     "data": {
      "image/png": "[encoded data removed]",
      "text/plain": [
       "<PIL.Image.Image image mode=RGB size=76x76 at 0x17513C3D2E0>"
      ]
     },
     "execution_count": 72,
     "metadata": {},
     "output_type": "execute_result"
    }
   ],
   "source": [
    "img4=image.load_img('D:/IBM/TEAM_MEMBER(191021076)/data/raw/flowers/dandelion/3383422012_6c9d83671f_n.jpg',target_size=(76,76))\n",
    "img4"
   ]
  }
 ],
 "metadata": {
  "kernelspec": {
   "display_name": "Python 3",
   "language": "python",
   "name": "python3"
  },
  "language_info": {
   "codemirror_mode": {
    "name": "ipython",
    "version": 3
   },
   "file_extension": ".py",
   "mimetype": "text/x-python",
   "name": "python",
   "nbconvert_exporter": "python",
   "pygments_lexer": "ipython3",
   "version": "3.8.8"
  }
 },
 "nbformat": 4,
 "nbformat_minor": 5
}
