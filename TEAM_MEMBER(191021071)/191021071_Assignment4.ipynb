{
 "cells": [
  {
   "cell_type": "code",
   "execution_count": 1,
   "id": "f7834cfb",
   "metadata": {},
   "outputs": [],
   "source": [
    "import pandas as pd\n",
    "import numpy as np\n",
    "import matplotlib.pyplot as plt\n",
    "from sklearn.model_selection import train_test_split\n",
    "from sklearn.preprocessing import LabelEncoder\n",
    "from keras.models import Model\n",
    "from keras.layers import LSTM, Activation, Dense, Dropout, Input, Embedding\n",
    "from keras.optimizers import Adam\n",
    "from keras.preprocessing.text import Tokenizer\n",
    "from keras.preprocessing import sequence\n",
    "from keras.utils import pad_sequences\n",
    "from keras.utils import to_categorical\n",
    "from keras.callbacks import EarlyStopping"
   ]
  },
  {
   "cell_type": "code",
   "execution_count": 3,
   "id": "a69cda9f",
   "metadata": {},
   "outputs": [
    {
     "data": {
      "text/html": [
       "<div>\n",
       "<style scoped>\n",
       "    .dataframe tbody tr th:only-of-type {\n",
       "        vertical-align: middle;\n",
       "    }\n",
       "\n",
       "    .dataframe tbody tr th {\n",
       "        vertical-align: top;\n",
       "    }\n",
       "\n",
       "    .dataframe thead th {\n",
       "        text-align: right;\n",
       "    }\n",
       "</style>\n",
       "<table border=\"1\" class=\"dataframe\">\n",
       "  <thead>\n",
       "    <tr style=\"text-align: right;\">\n",
       "      <th></th>\n",
       "      <th>v1</th>\n",
       "      <th>v2</th>\n",
       "      <th>Unnamed: 2</th>\n",
       "      <th>Unnamed: 3</th>\n",
       "      <th>Unnamed: 4</th>\n",
       "    </tr>\n",
       "  </thead>\n",
       "  <tbody>\n",
       "    <tr>\n",
       "      <th>0</th>\n",
       "      <td>ham</td>\n",
       "      <td>Go until jurong point, crazy.. Available only ...</td>\n",
       "      <td>NaN</td>\n",
       "      <td>NaN</td>\n",
       "      <td>NaN</td>\n",
       "    </tr>\n",
       "    <tr>\n",
       "      <th>1</th>\n",
       "      <td>ham</td>\n",
       "      <td>Ok lar... Joking wif u oni...</td>\n",
       "      <td>NaN</td>\n",
       "      <td>NaN</td>\n",
       "      <td>NaN</td>\n",
       "    </tr>\n",
       "    <tr>\n",
       "      <th>2</th>\n",
       "      <td>spam</td>\n",
       "      <td>Free entry in 2 a wkly comp to win FA Cup fina...</td>\n",
       "      <td>NaN</td>\n",
       "      <td>NaN</td>\n",
       "      <td>NaN</td>\n",
       "    </tr>\n",
       "    <tr>\n",
       "      <th>3</th>\n",
       "      <td>ham</td>\n",
       "      <td>U dun say so early hor... U c already then say...</td>\n",
       "      <td>NaN</td>\n",
       "      <td>NaN</td>\n",
       "      <td>NaN</td>\n",
       "    </tr>\n",
       "    <tr>\n",
       "      <th>4</th>\n",
       "      <td>ham</td>\n",
       "      <td>Nah I don't think he goes to usf, he lives aro...</td>\n",
       "      <td>NaN</td>\n",
       "      <td>NaN</td>\n",
       "      <td>NaN</td>\n",
       "    </tr>\n",
       "  </tbody>\n",
       "</table>\n",
       "</div>"
      ],
      "text/plain": [
       "     v1                                                 v2 Unnamed: 2  \\\n",
       "0   ham  Go until jurong point, crazy.. Available only ...        NaN   \n",
       "1   ham                      Ok lar... Joking wif u oni...        NaN   \n",
       "2  spam  Free entry in 2 a wkly comp to win FA Cup fina...        NaN   \n",
       "3   ham  U dun say so early hor... U c already then say...        NaN   \n",
       "4   ham  Nah I don't think he goes to usf, he lives aro...        NaN   \n",
       "\n",
       "  Unnamed: 3 Unnamed: 4  \n",
       "0        NaN        NaN  \n",
       "1        NaN        NaN  \n",
       "2        NaN        NaN  \n",
       "3        NaN        NaN  \n",
       "4        NaN        NaN  "
      ]
     },
     "execution_count": 3,
     "metadata": {},
     "output_type": "execute_result"
    }
   ],
   "source": [
    "df = pd.read_csv('D:/IBM/TEAM_LEADER(191021076)/archive (1)/spam.csv', delimiter=',',encoding='latin-1')\n",
    "df.head()"
   ]
  },
  {
   "cell_type": "code",
   "execution_count": 5,
   "id": "0ab1c743",
   "metadata": {},
   "outputs": [
    {
     "name": "stdout",
     "output_type": "stream",
     "text": [
      "Collecting wordcloud\n",
      "  Downloading wordcloud-1.8.2.2-cp39-cp39-win_amd64.whl (153 kB)\n",
      "Requirement already satisfied: matplotlib in c:\\users\\user\\anaconda3_new\\lib\\site-packages (from wordcloud) (3.4.3)\n",
      "Requirement already satisfied: numpy>=1.6.1 in c:\\users\\user\\anaconda3_new\\lib\\site-packages (from wordcloud) (1.20.3)\n",
      "Requirement already satisfied: pillow in c:\\users\\user\\anaconda3_new\\lib\\site-packages (from wordcloud) (8.4.0)\n",
      "Requirement already satisfied: kiwisolver>=1.0.1 in c:\\users\\user\\anaconda3_new\\lib\\site-packages (from matplotlib->wordcloud) (1.3.1)\n",
      "Requirement already satisfied: pyparsing>=2.2.1 in c:\\users\\user\\anaconda3_new\\lib\\site-packages (from matplotlib->wordcloud) (3.0.4)\n",
      "Requirement already satisfied: python-dateutil>=2.7 in c:\\users\\user\\anaconda3_new\\lib\\site-packages (from matplotlib->wordcloud) (2.8.2)\n",
      "Requirement already satisfied: cycler>=0.10 in c:\\users\\user\\anaconda3_new\\lib\\site-packages (from matplotlib->wordcloud) (0.10.0)\n",
      "Requirement already satisfied: six in c:\\users\\user\\anaconda3_new\\lib\\site-packages (from cycler>=0.10->matplotlib->wordcloud) (1.16.0)\n",
      "Installing collected packages: wordcloud\n",
      "Successfully installed wordcloud-1.8.2.2\n"
     ]
    }
   ],
   "source": [
    "!pip install wordcloud"
   ]
  },
  {
   "cell_type": "code",
   "execution_count": 7,
   "id": "6224593e",
   "metadata": {},
   "outputs": [],
   "source": [
    "#df.drop(['Unnamed: 2', 'Unnamed: 3', 'Unnamed: 4'],axis=1,inplace=True)\n",
    "from wordcloud import WordCloud, STOPWORDS, ImageColorGenerator\n",
    "X = df.v2\n",
    "Y = df.v1\n",
    "le = LabelEncoder()\n",
    "Y = le.fit_transform(Y)\n",
    "Y = Y.reshape(-1,1)\n",
    "X_train,X_test,Y_train,Y_test = train_test_split(X,Y,test_size=0.25)\n",
    "max_words = 1000\n",
    "max_len = 150\n",
    "tok = Tokenizer(num_words=max_words)\n",
    "tok.fit_on_texts(X_train)\n",
    "sequences = tok.texts_to_sequences(X_train)\n",
    "sequences_matrix = pad_sequences(sequences,maxlen=max_len)"
   ]
  },
  {
   "cell_type": "code",
   "execution_count": 8,
   "id": "a4c8b941",
   "metadata": {},
   "outputs": [],
   "source": [
    "inputs = Input(shape=[max_len])\n",
    "layer = Embedding(max_words,50,input_length=max_len)(inputs)"
   ]
  },
  {
   "cell_type": "code",
   "execution_count": 9,
   "id": "6cad3c24",
   "metadata": {},
   "outputs": [],
   "source": [
    "layer = LSTM(128)(layer)\n",
    "layer = Dense(128)(layer)\n",
    "layer = Activation('relu')(layer)\n",
    "layer = Dropout(0.5)(layer)\n",
    "layer = Dense(1.5)(layer)\n",
    "layer = Activation('sigmoid')(layer)\n",
    "model = Model(inputs=inputs,outputs=layer)"
   ]
  },
  {
   "cell_type": "code",
   "execution_count": 10,
   "id": "26c2f851",
   "metadata": {},
   "outputs": [
    {
     "name": "stdout",
     "output_type": "stream",
     "text": [
      "Model: \"model\"\n",
      "_________________________________________________________________\n",
      " Layer (type)                Output Shape              Param #   \n",
      "=================================================================\n",
      " input_1 (InputLayer)        [(None, 150)]             0         \n",
      "                                                                 \n",
      " embedding (Embedding)       (None, 150, 50)           50000     \n",
      "                                                                 \n",
      " lstm (LSTM)                 (None, 128)               91648     \n",
      "                                                                 \n",
      " dense (Dense)               (None, 128)               16512     \n",
      "                                                                 \n",
      " activation (Activation)     (None, 128)               0         \n",
      "                                                                 \n",
      " dropout (Dropout)           (None, 128)               0         \n",
      "                                                                 \n",
      " dense_1 (Dense)             (None, 1)                 129       \n",
      "                                                                 \n",
      " activation_1 (Activation)   (None, 1)                 0         \n",
      "                                                                 \n",
      "=================================================================\n",
      "Total params: 158,289\n",
      "Trainable params: 158,289\n",
      "Non-trainable params: 0\n",
      "_________________________________________________________________\n"
     ]
    }
   ],
   "source": [
    "model.summary()"
   ]
  },
  {
   "cell_type": "code",
   "execution_count": 11,
   "id": "439a89a8",
   "metadata": {},
   "outputs": [],
   "source": [
    "model.compile(loss='binary_crossentropy',optimizer=Adam(),metrics=['accuracy'])"
   ]
  },
  {
   "cell_type": "code",
   "execution_count": 12,
   "id": "4d89b33c",
   "metadata": {},
   "outputs": [
    {
     "name": "stdout",
     "output_type": "stream",
     "text": [
      "Epoch 1/15\n",
      "168/168 [==============================] - 20s 102ms/step - loss: 0.1715 - accuracy: 0.9411 - val_loss: 0.0378 - val_accuracy: 0.9892\n",
      "Epoch 2/15\n",
      "168/168 [==============================] - 20s 121ms/step - loss: 0.0542 - accuracy: 0.9859 - val_loss: 0.0363 - val_accuracy: 0.9916\n",
      "Epoch 3/15\n",
      "168/168 [==============================] - 20s 118ms/step - loss: 0.0329 - accuracy: 0.9913 - val_loss: 0.0388 - val_accuracy: 0.9916\n",
      "Epoch 4/15\n",
      "168/168 [==============================] - 19s 112ms/step - loss: 0.0154 - accuracy: 0.9961 - val_loss: 0.0537 - val_accuracy: 0.9904\n",
      "Epoch 5/15\n",
      "168/168 [==============================] - 19s 116ms/step - loss: 0.0090 - accuracy: 0.9979 - val_loss: 0.0543 - val_accuracy: 0.9904\n",
      "Epoch 6/15\n",
      "168/168 [==============================] - 21s 125ms/step - loss: 0.0071 - accuracy: 0.9976 - val_loss: 0.0603 - val_accuracy: 0.9892\n",
      "Epoch 7/15\n",
      "168/168 [==============================] - 20s 117ms/step - loss: 0.0160 - accuracy: 0.9937 - val_loss: 0.0617 - val_accuracy: 0.9797\n",
      "Epoch 8/15\n",
      "168/168 [==============================] - 20s 117ms/step - loss: 0.0086 - accuracy: 0.9976 - val_loss: 0.0696 - val_accuracy: 0.9856\n",
      "Epoch 9/15\n",
      "168/168 [==============================] - 19s 111ms/step - loss: 0.0059 - accuracy: 0.9982 - val_loss: 0.0898 - val_accuracy: 0.9904\n",
      "Epoch 10/15\n",
      "168/168 [==============================] - 18s 108ms/step - loss: 0.0027 - accuracy: 0.9994 - val_loss: 0.0763 - val_accuracy: 0.9868\n",
      "Epoch 11/15\n",
      "168/168 [==============================] - 19s 116ms/step - loss: 0.0011 - accuracy: 0.9997 - val_loss: 0.0970 - val_accuracy: 0.9892\n",
      "Epoch 12/15\n",
      "168/168 [==============================] - 19s 113ms/step - loss: 8.4780e-04 - accuracy: 0.9997 - val_loss: 0.0959 - val_accuracy: 0.9809\n",
      "Epoch 13/15\n",
      "168/168 [==============================] - 18s 108ms/step - loss: 5.9890e-04 - accuracy: 1.0000 - val_loss: 0.0985 - val_accuracy: 0.9868\n",
      "Epoch 14/15\n",
      "168/168 [==============================] - 19s 111ms/step - loss: 1.4770e-04 - accuracy: 1.0000 - val_loss: 0.1039 - val_accuracy: 0.9868\n",
      "Epoch 15/15\n",
      "168/168 [==============================] - 18s 108ms/step - loss: 8.9866e-05 - accuracy: 1.0000 - val_loss: 0.1097 - val_accuracy: 0.9868\n"
     ]
    }
   ],
   "source": [
    "history = model.fit(sequences_matrix,Y_train,batch_size=20,epochs=15,validation_split=0.2)"
   ]
  },
  {
   "cell_type": "code",
   "execution_count": 13,
   "id": "3a5b6c70",
   "metadata": {},
   "outputs": [],
   "source": [
    "metrics = pd.DataFrame(history.history)\n",
    "metrics.rename(columns = {'loss': 'Training_Loss', 'accuracy': 'Training_Accuracy', 'val_loss': 'Validation_Loss', 'val_accuracy': 'Validation_Accuracy'}, inplace = True)\n",
    "def plot_graphs1(var1, var2, string):\n",
    "  metrics[[var1, var2]].plot()\n",
    "  plt.title('Training and Validation ' + string)\n",
    "  plt.xlabel ('Number of epochs')\n",
    "  plt.ylabel(string)\n",
    "  plt.legend([var1, var2])"
   ]
  },
  {
   "cell_type": "code",
   "execution_count": 14,
   "id": "3f030a70",
   "metadata": {},
   "outputs": [
    {
     "data": {
      "image/png": "[encoded data removed]",
      "text/plain": [
       "<Figure size 432x288 with 1 Axes>"
      ]
     },
     "metadata": {
      "needs_background": "light"
     },
     "output_type": "display_data"
    }
   ],
   "source": [
    "plot_graphs1('Training_Accuracy', 'Validation_Accuracy', 'accuracy')"
   ]
  },
  {
   "cell_type": "code",
   "execution_count": 15,
   "id": "930f8240",
   "metadata": {},
   "outputs": [],
   "source": [
    "model.save('Spam_sms_classifier.h5')"
   ]
  },
  {
   "cell_type": "code",
   "execution_count": 16,
   "id": "c5b70f7d",
   "metadata": {},
   "outputs": [],
   "source": [
    "test_sequences = tok.texts_to_sequences(X_test)\n",
    "test_sequences_matrix = pad_sequences(test_sequences,maxlen=max_len)"
   ]
  },
  {
   "cell_type": "code",
   "execution_count": 17,
   "id": "577c7bf8",
   "metadata": {},
   "outputs": [
    {
     "name": "stdout",
     "output_type": "stream",
     "text": [
      "44/44 [==============================] - 2s 36ms/step - loss: 0.1246 - accuracy: 0.9842\n"
     ]
    }
   ],
   "source": [
    "accuracy1 = model.evaluate(test_sequences_matrix,Y_test)"
   ]
  },
  {
   "cell_type": "code",
   "execution_count": 18,
   "id": "1e093b4a",
   "metadata": {},
   "outputs": [
    {
     "name": "stdout",
     "output_type": "stream",
     "text": [
      " Accuracy: 0.12459\n"
     ]
    }
   ],
   "source": [
    "print(' Accuracy: {:0.5f}'.format(accuracy1[0],accuracy1[1]))"
   ]
  }
 ],
 "metadata": {
  "kernelspec": {
   "display_name": "Python 3 (ipykernel)",
   "language": "python",
   "name": "python3"
  },
  "language_info": {
   "codemirror_mode": {
    "name": "ipython",
    "version": 3
   },
   "file_extension": ".py",
   "mimetype": "text/x-python",
   "name": "python",
   "nbconvert_exporter": "python",
   "pygments_lexer": "ipython3",
   "version": "3.9.7"
  }
 },
 "nbformat": 4,
 "nbformat_minor": 5
}
