{
 "cells": [
  {
   "cell_type": "markdown",
   "id": "949425fb",
   "metadata": {},
   "source": [
    "Importing The ImageDataGenerator Library"
   ]
  },
  {
   "cell_type": "code",
   "execution_count": 1,
   "id": "ad649d63",
   "metadata": {},
   "outputs": [],
   "source": [
    "import keras \n",
    "from keras.preprocessing.image import ImageDataGenerator"
   ]
  },
  {
   "cell_type": "markdown",
   "id": "fcc5e09d",
   "metadata": {},
   "source": [
    "Define the parameters/arguments for ImageDataGenerator class"
   ]
  },
  {
   "cell_type": "code",
   "execution_count": 2,
   "id": "99479722",
   "metadata": {},
   "outputs": [],
   "source": [
    "train_datagen=ImageDataGenerator(rescale=1./255,shear_range=0.2,rotation_range=180,zoom_range=0.2, horizontal_flip=True)\n",
    "test_datagen=ImageDataGenerator(rescale=1./255)"
   ]
  },
  {
   "cell_type": "markdown",
   "id": "130b9733",
   "metadata": {},
   "source": [
    "Applying ImageDataGenerator functionality to trainset"
   ]
  },
  {
   "cell_type": "code",
   "execution_count": 6,
   "id": "f2a01559",
   "metadata": {},
   "outputs": [
    {
     "name": "stdout",
     "output_type": "stream",
     "text": [
      "Found 436 images belonging to 2 classes.\n"
     ]
    }
   ],
   "source": [
    "x_train=train_datagen.flow_from_directory(r'D:/IBM/archive/Dataset/Dataset/train_set',target_size=(128,128),batch_size=32, class_mode='binary')"
   ]
  },
  {
   "cell_type": "markdown",
   "id": "c84c1fae",
   "metadata": {},
   "source": [
    "Applying ImageDataGenerator functionality to testset"
   ]
  },
  {
   "cell_type": "code",
   "execution_count": 8,
   "id": "4cf0dead",
   "metadata": {},
   "outputs": [
    {
     "name": "stdout",
     "output_type": "stream",
     "text": [
      "Found 121 images belonging to 2 classes.\n"
     ]
    }
   ],
   "source": [
    "x_test=test_datagen.flow_from_directory(r'D:/IBM/archive/Dataset/Dataset/test_set',target_size=(128,128),batch_size=32, class_mode='binary')"
   ]
  }
 ],
 "metadata": {
  "kernelspec": {
   "display_name": "Python 3 (ipykernel)",
   "language": "python",
   "name": "python3"
  },
  "language_info": {
   "codemirror_mode": {
    "name": "ipython",
    "version": 3
   },
   "file_extension": ".py",
   "mimetype": "text/x-python",
   "name": "python",
   "nbconvert_exporter": "python",
   "pygments_lexer": "ipython3",
   "version": "3.9.7"
  }
 },
 "nbformat": 4,
 "nbformat_minor": 5
}
