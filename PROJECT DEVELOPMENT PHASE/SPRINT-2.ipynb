{
 "cells": [
  {
   "cell_type": "markdown",
   "id": "949425fb",
   "metadata": {},
   "source": [
    "Importing The ImageDataGenerator Library"
   ]
  },
  {
   "cell_type": "code",
   "execution_count": 7,
   "id": "ad649d63",
   "metadata": {},
   "outputs": [],
   "source": [
    "import keras \n",
    "from keras.preprocessing.image import ImageDataGenerator"
   ]
  },
  {
   "cell_type": "markdown",
   "id": "fcc5e09d",
   "metadata": {},
   "source": [
    "Define the parameters/arguments for ImageDataGenerator class"
   ]
  },
  {
   "cell_type": "code",
   "execution_count": 8,
   "id": "99479722",
   "metadata": {},
   "outputs": [],
   "source": [
    "train_datagen=ImageDataGenerator(rescale=1./255,shear_range=0.2,rotation_range=180,zoom_range=0.2, horizontal_flip=True)\n",
    "test_datagen=ImageDataGenerator(rescale=1./255)"
   ]
  },
  {
   "cell_type": "markdown",
   "id": "130b9733",
   "metadata": {},
   "source": [
    "Applying ImageDataGenerator functionality to trainset"
   ]
  },
  {
   "cell_type": "code",
   "execution_count": 9,
   "id": "f2a01559",
   "metadata": {},
   "outputs": [
    {
     "name": "stdout",
     "output_type": "stream",
     "text": [
      "Found 436 images belonging to 2 classes.\n"
     ]
    }
   ],
   "source": [
    "x_train=train_datagen.flow_from_directory(r'D:/IBM/archive/Dataset/Dataset/train_set',target_size=(128,128),batch_size=32, class_mode='binary')"
   ]
  },
  {
   "cell_type": "markdown",
   "id": "c84c1fae",
   "metadata": {},
   "source": [
    "Applying ImageDataGenerator functionality to testset"
   ]
  },
  {
   "cell_type": "code",
   "execution_count": 10,
   "id": "4cf0dead",
   "metadata": {},
   "outputs": [
    {
     "name": "stdout",
     "output_type": "stream",
     "text": [
      "Found 121 images belonging to 2 classes.\n"
     ]
    }
   ],
   "source": [
    "x_test=test_datagen.flow_from_directory(r'D:/IBM/archive/Dataset/Dataset/test_set',target_size=(128,128),batch_size=32, class_mode='binary')"
   ]
  },
  {
   "cell_type": "markdown",
   "id": "e1b83b36",
   "metadata": {},
   "source": [
    "Import model building libraries"
   ]
  },
  {
   "cell_type": "code",
   "execution_count": 11,
   "id": "bdb83d81",
   "metadata": {},
   "outputs": [],
   "source": [
    "#To define Linear initialisation import Sequential\n",
    "from keras.models import Sequential\n",
    "#To add layers import Dense\n",
    "from keras.layers import Dense\n",
    "#To create Convolution kernel import Convolution2D \n",
    "from keras.layers import Convolution2D\n",
    "#import Maxpooling layer\n",
    "from keras.layers import MaxPooling2D \n",
    "#import flatten layer\n",
    "from keras.layers import Flatten \n",
    "import warnings \n",
    "warnings.filterwarnings('ignore')"
   ]
  },
  {
   "cell_type": "markdown",
   "id": "03b79b30",
   "metadata": {},
   "source": [
    "Initializing the model"
   ]
  },
  {
   "cell_type": "code",
   "execution_count": 12,
   "id": "ce08fe95",
   "metadata": {},
   "outputs": [],
   "source": [
    "model=Sequential()"
   ]
  },
  {
   "cell_type": "markdown",
   "id": "cf98a9c3",
   "metadata": {},
   "source": [
    "Add CNN Layer"
   ]
  },
  {
   "cell_type": "code",
   "execution_count": 13,
   "id": "5c5d6914",
   "metadata": {},
   "outputs": [],
   "source": [
    "model.add(Convolution2D(32,(3,3),input_shape=(128,128,3),activation='relu')) \n",
    "#add maxpooling layer\n",
    "model.add(MaxPooling2D(pool_size=(2,2)))\n",
    "#add flatten layer\n",
    "model.add(Flatten())"
   ]
  },
  {
   "cell_type": "markdown",
   "id": "e57d9c83",
   "metadata": {},
   "source": [
    "Add Hidden Layer"
   ]
  },
  {
   "cell_type": "code",
   "execution_count": 14,
   "id": "3df34ea5",
   "metadata": {},
   "outputs": [],
   "source": [
    "#add hidden layer\n",
    "model.add(Dense(150,activation='relu')) \n",
    "#add output layer \n",
    "model.add(Dense(1,activation='sigmoid'))"
   ]
  },
  {
   "cell_type": "markdown",
   "id": "43bef038",
   "metadata": {},
   "source": [
    "Configure the learning process"
   ]
  },
  {
   "cell_type": "code",
   "execution_count": 15,
   "id": "fb09943a",
   "metadata": {},
   "outputs": [],
   "source": [
    "model.compile(loss='binary_crossentropy',optimizer=\"adam\",metrics=[\"accuracy\"])"
   ]
  },
  {
   "cell_type": "markdown",
   "id": "6aefe30c",
   "metadata": {},
   "source": [
    "Train the model"
   ]
  },
  {
   "cell_type": "code",
   "execution_count": 16,
   "id": "24e81940",
   "metadata": {},
   "outputs": [
    {
     "name": "stdout",
     "output_type": "stream",
     "text": [
      "Epoch 1/10\n",
      "14/14 [==============================] - 41s 3s/step - loss: 2.1511 - accuracy: 0.6606 - val_loss: 0.2848 - val_accuracy: 0.9256\n",
      "Epoch 2/10\n",
      "14/14 [==============================] - 36s 3s/step - loss: 0.3357 - accuracy: 0.8532 - val_loss: 0.1240 - val_accuracy: 0.9504\n",
      "Epoch 3/10\n",
      "14/14 [==============================] - 36s 3s/step - loss: 0.2366 - accuracy: 0.8945 - val_loss: 0.0819 - val_accuracy: 0.9752\n",
      "Epoch 4/10\n",
      "14/14 [==============================] - 36s 3s/step - loss: 0.2088 - accuracy: 0.9060 - val_loss: 0.0754 - val_accuracy: 0.9752\n",
      "Epoch 5/10\n",
      "14/14 [==============================] - 36s 3s/step - loss: 0.1896 - accuracy: 0.9151 - val_loss: 0.0799 - val_accuracy: 0.9752\n",
      "Epoch 6/10\n",
      "14/14 [==============================] - 36s 3s/step - loss: 0.1648 - accuracy: 0.9312 - val_loss: 0.0772 - val_accuracy: 0.9669\n",
      "Epoch 7/10\n",
      "14/14 [==============================] - 36s 3s/step - loss: 0.1537 - accuracy: 0.9358 - val_loss: 0.0777 - val_accuracy: 0.9587\n",
      "Epoch 8/10\n",
      "14/14 [==============================] - 37s 3s/step - loss: 0.1621 - accuracy: 0.9358 - val_loss: 0.0742 - val_accuracy: 0.9752\n",
      "Epoch 9/10\n",
      "14/14 [==============================] - 35s 2s/step - loss: 0.1660 - accuracy: 0.9289 - val_loss: 0.0605 - val_accuracy: 0.9669\n",
      "Epoch 10/10\n",
      "14/14 [==============================] - 35s 3s/step - loss: 0.1533 - accuracy: 0.9289 - val_loss: 0.0520 - val_accuracy: 0.9752\n"
     ]
    },
    {
     "data": {
      "text/plain": [
       "<keras.callbacks.History at 0x21edf2c9a90>"
      ]
     },
     "execution_count": 16,
     "metadata": {},
     "output_type": "execute_result"
    }
   ],
   "source": [
    "model.fit_generator(x_train,steps_per_epoch=14,epochs=10,validation_data=x_test,validation_steps=4)"
   ]
  },
  {
   "cell_type": "markdown",
   "id": "59707c13",
   "metadata": {},
   "source": [
    "Save The Model"
   ]
  },
  {
   "cell_type": "code",
   "execution_count": 18,
   "id": "c1d4ed30",
   "metadata": {},
   "outputs": [],
   "source": [
    "model.save(\"forest1.h5\")"
   ]
  },
  {
   "cell_type": "markdown",
   "id": "14487c88",
   "metadata": {},
   "source": [
    "Predictions"
   ]
  },
  {
   "cell_type": "code",
   "execution_count": 19,
   "id": "ad45a592",
   "metadata": {},
   "outputs": [],
   "source": [
    "#import load_model from keras.model\n",
    "from keras.models import load_model\n",
    "#import image class from keras\n",
    "from tensorflow.keras.preprocessing import image #import numpy\n",
    "import numpy as np\n",
    "#import cv2\n",
    "import cv2"
   ]
  },
  {
   "cell_type": "code",
   "execution_count": 21,
   "id": "67a57cfb",
   "metadata": {},
   "outputs": [],
   "source": [
    "#load the saved model\n",
    "model = load_model(\"forest1.h5\")\n",
    "img=image.load_img(r'D:/IBM/archive/Dataset/Dataset/test_set/forest/0.48007200_1530881924_final_forest.jpg')\n",
    "x=image.img_to_array(img)\n",
    "res = cv2.resize(x, dsize=(128, 128), interpolation=cv2.INTER_CUBIC)\n",
    "#expand the image shape\n",
    "x=np.expand_dims(res,axis=0)"
   ]
  },
  {
   "cell_type": "code",
   "execution_count": 22,
   "id": "693b9444",
   "metadata": {},
   "outputs": [
    {
     "name": "stdout",
     "output_type": "stream",
     "text": [
      "1/1 [==============================] - 0s 254ms/step\n"
     ]
    }
   ],
   "source": [
    "pred= model.predict(x)"
   ]
  },
  {
   "cell_type": "code",
   "execution_count": 23,
   "id": "ad3c56e6",
   "metadata": {},
   "outputs": [
    {
     "data": {
      "text/plain": [
       "array([[0.]], dtype=float32)"
      ]
     },
     "execution_count": 23,
     "metadata": {},
     "output_type": "execute_result"
    }
   ],
   "source": [
    "pred"
   ]
  }
 ],
 "metadata": {
  "kernelspec": {
   "display_name": "Python 3 (ipykernel)",
   "language": "python",
   "name": "python3"
  },
  "language_info": {
   "codemirror_mode": {
    "name": "ipython",
    "version": 3
   },
   "file_extension": ".py",
   "mimetype": "text/x-python",
   "name": "python",
   "nbconvert_exporter": "python",
   "pygments_lexer": "ipython3",
   "version": "3.9.7"
  }
 },
 "nbformat": 4,
 "nbformat_minor": 5
}
